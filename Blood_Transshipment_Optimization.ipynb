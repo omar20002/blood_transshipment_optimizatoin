{
 "cells": [
  {
   "cell_type": "code",
   "execution_count": 64,
   "id": "6IL9LBl0gztI",
   "metadata": {
    "colab": {
     "base_uri": "https://localhost:8080/"
    },
    "id": "6IL9LBl0gztI",
    "outputId": "534e8826-92e1-448b-db41-6142b7549d1e"
   },
   "outputs": [],
   "source": [
    "import numpy as np\n",
    "from scipy.stats import qmc\n",
    "import random\n",
    "from docplex.mp.model import Model"
   ]
  },
  {
   "cell_type": "code",
   "execution_count": 65,
   "id": "fcTEfLsWdlX7",
   "metadata": {
    "colab": {
     "base_uri": "https://localhost:8080/"
    },
    "id": "fcTEfLsWdlX7",
    "outputId": "cb0c36eb-5088-47dc-fd2a-1e376f58126a"
   },
   "outputs": [],
   "source": [
    "def sobel_random_d():\n",
    "    sobol = qmc.Sobol(d=7, scramble=True)\n",
    "    \n",
    "    scenarios = sobol.random(n=100)\n",
    "    \n",
    "    scenarios_h1 = scenarios * 40\n",
    "    \n",
    "    scenarios_h1 = scenarios_h1.astype(int)\n",
    "    \n",
    "    scenarios = sobol.random(n=100)\n",
    "    \n",
    "    scenarios_h2 = scenarios * 30 #hospital 2 is smaller\n",
    "    scenarios_h2 = scenarios_h2.astype(int)\n",
    "    \n",
    "    D = {(t+1, 1, xi+1): scenarios_h1[xi,t] for t in range(0, num_time_periods) for xi in range(0, num_scenarios)}\n",
    "    D.update({(t+1, 2, xi+1): scenarios_h2[xi,t] for t in range(0, num_time_periods) for xi in range(0, num_scenarios)})\n",
    "\n",
    "\n",
    "    return D\n"
   ]
  },
  {
   "cell_type": "code",
   "execution_count": 86,
   "id": "47134df0",
   "metadata": {
    "colab": {
     "base_uri": "https://localhost:8080/",
     "height": 442
    },
    "id": "47134df0",
    "outputId": "269afad3-cce9-4e2c-bc39-8c1ef7534264"
   },
   "outputs": [],
   "source": [
    "T = range(1, 7 + 1)  # Time horizon\n",
    "N = range(1, 2 + 1)  # Hospitals\n",
    "M = range(1, 3 + 1)  # Remaining shelf life\n",
    "scenarios = range(1, 100 + 1)  # Remaining shelf life\n",
    "\n",
    "\n",
    "num_hospitals = len(N)\n",
    "num_shelf_life = len(M)\n",
    "num_time_periods = len(T)\n",
    "num_scenarios = len(scenarios)\n",
    "\n",
    "def model_(B,D):    \n",
    "    model = Model(name='BloodTransshipment')\n",
    "    \n",
    "    #####################\n",
    "    \n",
    "    Y = {(i): model.integer_var(name=f'orders_first_stage_{i}') for i in N} #ORDERS FOR HOS i for first stage\n",
    "    Y.update({(i, t, xi): model.integer_var(name=f'orders_second_stage_to_{i}_time_{t}__senario_{xi}') for i in N for t in T[1:] for xi in scenarios})\n",
    "    \n",
    "    \n",
    "    X = {(i, j, m): model.integer_var(name=f'Trans_first_stage_from_{i}to_{j}age{m}') for i in N for j in N if i!=j for m in M } #trans ORDERSs From HOS i to j for first stage\n",
    "    \n",
    "    f = {(i, t, xi): model.integer_var(name=f'f_{i}_{t}_{xi}') for i in N for t in T for xi in scenarios} #shortage\n",
    "    o = {(i, t, xi): model.integer_var(name=f'o_{i}_{t}_{xi}') for i in N for t in T for xi in scenarios} #outdated\n",
    "    v = {(i, t, xi): model.integer_var(name=f'v_{i}_{t}_{xi}') for i in N for t in T for xi in scenarios} #inventory\n",
    "    \n",
    "    \n",
    "    i_s = {(i,m,1): model.integer_var(name=f'is_{i}_{m}_{1}') for i in N for m in M}\n",
    "    i_s.update({(i, m, t, xi): model.integer_var(name=f'is_{i}_{t}_{m}_{xi}') for i in N for t in T if t!=1 for m in M for xi in scenarios})\n",
    "    \n",
    "    \n",
    "    i_e = {(i, m, t, xi): model.integer_var(name=f'ie_{i}_{t}_{m}_{xi}') for i in N for t in T for m in M for xi in scenarios}\n",
    "    \n",
    "    s = {(i): model.integer_var(name=f'TargetInventory_{i}') for i in N }\n",
    "    \n",
    "    a = {(i, m, t, xi): model.integer_var(name=f'a_{i}_{t}_{m}_{xi}') for i in N for t in T for m in M for xi in scenarios}\n",
    "    \n",
    "    \n",
    "    G = 16  # Emergency order cost\n",
    "    H = 1   #\n",
    "    E = 13 # Expiry cost\n",
    "    R = 1  # Ordering cost\n",
    "    C = 1.5 # Transshipment cost\n",
    "    P = 0.5  # Scenario probabilities\n",
    "    \n",
    "    \n",
    "    # objective function\n",
    "    model.minimize(model.sum(R * Y[i] for i in N) + model.sum(C * X[i, j, m] for i in N for j in N if i != j for m in M)#STAGE ONE\n",
    "              + model.sum(model.sum(H * v[i, 1, xi] + E * o[i, 1, xi] + G * f[i, 1, xi]) for i in N for xi in scenarios)\n",
    "              + model.sum(R * Y[i, t, xi] + H * v[i, t, xi] + E * o[i, t, xi] + G * f[i, t, xi] for t in T[1:] for i in N for xi in scenarios))#STAGE TWO\n",
    "    \n",
    "    \n",
    "    \n",
    "    # nsures blood units balance in the first stage at each hospital\n",
    "    for i in N:\n",
    "      for m in M:\n",
    "          for xi in scenarios:\n",
    "              model.add_constraint(\n",
    "                  model.sum(i_s[i,m,1]) + model.sum(X[j, i, m] for j in N if i != j) == model.sum(X[i, j, m] for j in N if i != j) + model.sum(a[i, m, 1, xi]) + model.sum(i_e[i, m, 1, xi]),\n",
    "                  ctname=f\"stage_one_transshipment_{i}_{m}_{xi}\"\n",
    "              )\n",
    "    \n",
    "    \n",
    "    # Ensures blood units balance in the second stage at each hospital.\n",
    "    for i in N:\n",
    "      for m in M:\n",
    "          for xi in scenarios:\n",
    "              model.add_constraint(\n",
    "                  model.sum(i_s[i,m,t,xi] for t in T[1:]) == model.sum(a[i,m,t,xi] + i_e[i,m,t,xi] for t in T[1:]) ,\n",
    "                  ctname=f\"inv_{i}_{m}_{xi}\"\n",
    "              )\n",
    "    \n",
    "    #Sets the initial blood units at each hospital.\n",
    "    for i in N:\n",
    "      for m in M:\n",
    "          model.add_constraint( model.sum(i_s[i,m,1] == model.sum(B[i,m])) )\n",
    "    \n",
    "    \n",
    "    #Makes sure each hospital uses blood units equal to its demand.\n",
    "    for i in N:\n",
    "      for t in T:\n",
    "          for xi in scenarios:\n",
    "              model.add_constraint(model.sum(a[i,m,t,xi] for m in M) + model.sum(f[i,t,xi]) == model.sum(D[t,i,xi]))\n",
    "    \n",
    "    for i in N:\n",
    "      for t in T:\n",
    "          for xi in scenarios:\n",
    "    \n",
    "              #Calculates the inventory level excluding the blood units with one day of shelf life left.\n",
    "              model.add_constraint(v[i,t,xi] == model.sum(i_e[i,m,t,xi] for m in M if m!=1))\n",
    "              #Calculates the amount of blood units that become outdated.\n",
    "              model.add_constraint(o[i,t,xi] == model.sum(i_e[i,1,t,xi]) )\n",
    "    \n",
    "    \n",
    "    \n",
    "    for i in N:\n",
    "      for m in M[:-1]:\n",
    "          for xi in scenarios:\n",
    "              for t in T[:-1]:\n",
    "                 #ensures the leftover blood units are equal to the received units in the next time period.\n",
    "                  model.add_constraint(model.sum(i_e[i,m+1,t,xi]) == model.sum(i_s[i,m,t+1,xi]))\n",
    "    \n",
    "    \n",
    "    \n",
    "    #Matches the ordered blood units with the received units in the next stage\n",
    "    for i in N:\n",
    "      for xi in scenarios:\n",
    "          model.add_constraint(model.sum(i_s[i, len(M) , 2, xi]) == model.sum(Y[i]))\n",
    "    \n",
    "    \n",
    "    for i in N:\n",
    "      for t in T[1:1]:\n",
    "          for xi in scenarios:\n",
    "              model.add_constraint(model.sum(i_s[i , len(M) , t+1 , xi]) == model.sum(Y[i,t,xi]))\n",
    "    \n",
    "    #defines the target inventory level at each hospital\n",
    "    for i in N:\n",
    "      for t in T[1:]:\n",
    "          for xi in scenarios:\n",
    "              model.add_constraint(model.sum(s[i]) - model.sum(i_s[i,m,t,xi] for m in M) == model.sum(Y[i,t,xi]))\n",
    "    \n",
    "    \n",
    "    model.solve()\n",
    "\n",
    "    return model , X , Y\n",
    "\n"
   ]
  },
  {
   "cell_type": "code",
   "execution_count": 181,
   "id": "08d2fb86-1fa2-46af-ad16-ccc96201011a",
   "metadata": {},
   "outputs": [
    {
     "data": {
      "text/plain": [
       "{(1, 1): 20, (1, 2): 4, (1, 3): 5, (2, 1): 9, (2, 2): 0, (2, 3): 4}"
      ]
     },
     "execution_count": 181,
     "metadata": {},
     "output_type": "execute_result"
    }
   ],
   "source": [
    "B = {(i, m): random.randint(0, 20) for i in range(1, num_hospitals + 1) for m in range(1, num_shelf_life + 1)}\n",
    "B"
   ]
  },
  {
   "cell_type": "code",
   "execution_count": 182,
   "id": "83ce1008-89f5-4b46-857d-b0257d32296a",
   "metadata": {},
   "outputs": [
    {
     "name": "stderr",
     "output_type": "stream",
     "text": [
      "100%|██████████████████████████████████████████████████████████████████████████████████| 10/10 [00:08<00:00,  1.12it/s]\n"
     ]
    }
   ],
   "source": [
    "from tqdm import tqdm\n",
    "\n",
    "invs = {}\n",
    "ords = {}\n",
    "trans = {}\n",
    "\n",
    "for i in tqdm(range(10)):    \n",
    "    model , X , Y = model_(B,sobel_random_d())\n",
    "    \n",
    "    invs[i+1] = B.copy()\n",
    "    ords[i+1]= Y.copy()\n",
    "    trans[i+1] = X.copy()\n",
    "    \n",
    "    for i in N:\n",
    "        for j in N:\n",
    "            for m in M:\n",
    "                if i!=j:\n",
    "                    B[i,m] -= int(X[i,j,m].solution_value)\n",
    "                    B[j,m] += int(X[i,j,m].solution_value)\n",
    "\n",
    "\n",
    "    for i in N:\n",
    "        B[i,1] = 0\n",
    "        B[i,2] = B[i,3]\n",
    "        B[i,3] = int(Y[i].solution_value)\n",
    "\n",
    "    \n",
    "    \n",
    "\n",
    "    "
   ]
  },
  {
   "cell_type": "code",
   "execution_count": null,
   "id": "64d34cbe-d213-4fb4-b534-40550e83b701",
   "metadata": {},
   "outputs": [],
   "source": []
  },
  {
   "cell_type": "markdown",
   "id": "6ef84689-9ba8-42e4-8d09-4cd24df38366",
   "metadata": {
    "jp-MarkdownHeadingCollapsed": true
   },
   "source": [
    "import numpy as np\n",
    "from scipy.stats import nbinom\n",
    "\n",
    "def generate_zinb(pi, r, p, size=1):\n",
    "    # Generate a binary array with 'size' elements\n",
    "    # An element is 1 with probability 'pi' and 0 with probability '1-pi'\n",
    "    binary = np.random.choice([0, 1], size=size, p=[1-pi, pi])\n",
    "\n",
    "    # Generate a negative binomial array with 'size' elements\n",
    "    nb = nbinom.rvs(n=r, p=p, size=size)\n",
    "\n",
    "    # Return the element-wise product of the binary and negative binomial arrays\n",
    "    return binary * nb\n",
    "\n",
    "# Generate samples from the ZINB distributions\n",
    "zinb1 = generate_zinb(pi=0.6, r=4, p=0.6, size=1000)\n",
    "zinb2 = generate_zinb(pi=0.6, r=3, p=0.57, size=1000)\n",
    "zinb3 = generate_zinb(pi=0.25, r=15, p=0.57, size=1000)\n",
    "zinb4 = generate_zinb(pi=0.25, r=15, p=0.48, size=1000)\n",
    "\n",
    "# Print the first 10 samples from each distribution\n",
    "print(\"ZINB(π = 0.6, r = 4, p = 0.6):\", zinb1[:10])\n",
    "print(\"ZINB(π = 0.6, r = 3, p = 0.57):\", zinb2[:10])\n",
    "print(\"ZINB(π = 0.25, r = 15, p = 0.57):\", zinb3[:10])\n",
    "print(\"ZINB(π = 0.25, r = 15, p = 0.48):\", zinb4[:10])\n"
   ]
  }
 ],
 "metadata": {
  "colab": {
   "provenance": []
  },
  "kernelspec": {
   "display_name": "Python 3 (ipykernel)",
   "language": "python",
   "name": "python3"
  },
  "language_info": {
   "codemirror_mode": {
    "name": "ipython",
    "version": 3
   },
   "file_extension": ".py",
   "mimetype": "text/x-python",
   "name": "python",
   "nbconvert_exporter": "python",
   "pygments_lexer": "ipython3",
   "version": "3.10.13"
  }
 },
 "nbformat": 4,
 "nbformat_minor": 5
}
